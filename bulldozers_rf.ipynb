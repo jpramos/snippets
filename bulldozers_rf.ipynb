{
 "cells": [
  {
   "cell_type": "markdown",
   "metadata": {},
   "source": [
    "# Introduction to *Blue Book for Bulldozers*"
   ]
  },
  {
   "cell_type": "code",
   "execution_count": 1,
   "metadata": {
    "hidden": true
   },
   "outputs": [],
   "source": [
    "%load_ext autoreload\n",
    "%autoreload 2\n",
    "\n",
    "%matplotlib inline"
   ]
  },
  {
   "cell_type": "code",
   "execution_count": 2,
   "metadata": {
    "hidden": true
   },
   "outputs": [
    {
     "name": "stderr",
     "output_type": "stream",
     "text": [
      "/home/jpramos/anaconda3/envs/fastai/lib/python3.6/importlib/_bootstrap.py:219: RuntimeWarning: numpy.dtype size changed, may indicate binary incompatibility. Expected 96, got 88\n",
      "  return f(*args, **kwds)\n",
      "/home/jpramos/anaconda3/envs/fastai/lib/python3.6/importlib/_bootstrap.py:219: RuntimeWarning: numpy.dtype size changed, may indicate binary incompatibility. Expected 96, got 88\n",
      "  return f(*args, **kwds)\n",
      "/home/jpramos/anaconda3/envs/fastai/lib/python3.6/site-packages/sklearn/ensemble/weight_boosting.py:29: DeprecationWarning: numpy.core.umath_tests is an internal NumPy module and should not be imported. It will be removed in a future NumPy release.\n",
      "  from numpy.core.umath_tests import inner1d\n"
     ]
    }
   ],
   "source": [
    "from fastai.imports import *\n",
    "from fastai.structured import *\n",
    "\n",
    "from pandas_summary import DataFrameSummary\n",
    "from sklearn.ensemble import RandomForestRegressor, RandomForestClassifier\n",
    "from IPython.display import display\n",
    "\n",
    "from sklearn import metrics"
   ]
  },
  {
   "cell_type": "code",
   "execution_count": 3,
   "metadata": {
    "hidden": true
   },
   "outputs": [],
   "source": [
    "PATH = \"data/bulldozers/\""
   ]
  },
  {
   "cell_type": "code",
   "execution_count": 4,
   "metadata": {
    "hidden": true
   },
   "outputs": [],
   "source": [
    "df_train = pd.read_csv(f'{PATH}Train.csv', low_memory=False, \n",
    "                     parse_dates=[\"saledate\"])"
   ]
  },
  {
   "cell_type": "code",
   "execution_count": 6,
   "metadata": {
    "hidden": true,
    "scrolled": false
   },
   "outputs": [],
   "source": [
    "df_valid = pd.read_csv(f'{PATH}Valid.csv', low_memory=False,\n",
    "                      parse_dates=[\"saledate\"])\n",
    "\n",
    "df_vsol = pd.read_csv(f'{PATH}ValidSolution.csv', low_memory=False)\n",
    "df_vsol.drop(columns=['Usage'], inplace=True)\n",
    "\n",
    "df_valid = df_valid.merge(df_vsol, left_on='SalesID', right_on='SalesID', how='inner')"
   ]
  },
  {
   "cell_type": "code",
   "execution_count": 20,
   "metadata": {},
   "outputs": [],
   "source": [
    "df_train.SalePrice = np.log(df_train.SalePrice)\n",
    "df_valid.SalePrice = np.log(df_valid.SalePrice)"
   ]
  },
  {
   "cell_type": "code",
   "execution_count": 7,
   "metadata": {
    "hidden": true
   },
   "outputs": [],
   "source": [
    "add_datepart(df_train, 'saledate')\n",
    "\n",
    "add_datepart(df_valid, 'saledate')"
   ]
  },
  {
   "cell_type": "code",
   "execution_count": 8,
   "metadata": {
    "scrolled": true
   },
   "outputs": [
    {
     "name": "stdout",
     "output_type": "stream",
     "text": [
      "<class 'pandas.core.frame.DataFrame'>\n",
      "RangeIndex: 401125 entries, 0 to 401124\n",
      "Data columns (total 65 columns):\n",
      "SalesID                     401125 non-null int64\n",
      "SalePrice                   401125 non-null int64\n",
      "MachineID                   401125 non-null int64\n",
      "ModelID                     401125 non-null int64\n",
      "datasource                  401125 non-null int64\n",
      "auctioneerID                380989 non-null float64\n",
      "YearMade                    401125 non-null int64\n",
      "MachineHoursCurrentMeter    142765 non-null float64\n",
      "UsageBand                   69639 non-null object\n",
      "fiModelDesc                 401125 non-null object\n",
      "fiBaseModel                 401125 non-null object\n",
      "fiSecondaryDesc             263934 non-null object\n",
      "fiModelSeries               56908 non-null object\n",
      "fiModelDescriptor           71919 non-null object\n",
      "ProductSize                 190350 non-null object\n",
      "fiProductClassDesc          401125 non-null object\n",
      "state                       401125 non-null object\n",
      "ProductGroup                401125 non-null object\n",
      "ProductGroupDesc            401125 non-null object\n",
      "Drive_System                104361 non-null object\n",
      "Enclosure                   400800 non-null object\n",
      "Forks                       192077 non-null object\n",
      "Pad_Type                    79134 non-null object\n",
      "Ride_Control                148606 non-null object\n",
      "Stick                       79134 non-null object\n",
      "Transmission                183230 non-null object\n",
      "Turbocharged                79134 non-null object\n",
      "Blade_Extension             25219 non-null object\n",
      "Blade_Width                 25219 non-null object\n",
      "Enclosure_Type              25219 non-null object\n",
      "Engine_Horsepower           25219 non-null object\n",
      "Hydraulics                  320570 non-null object\n",
      "Pushblock                   25219 non-null object\n",
      "Ripper                      104137 non-null object\n",
      "Scarifier                   25230 non-null object\n",
      "Tip_Control                 25219 non-null object\n",
      "Tire_Size                   94718 non-null object\n",
      "Coupler                     213952 non-null object\n",
      "Coupler_System              43458 non-null object\n",
      "Grouser_Tracks              43362 non-null object\n",
      "Hydraulics_Flow             43362 non-null object\n",
      "Track_Type                  99153 non-null object\n",
      "Undercarriage_Pad_Width     99872 non-null object\n",
      "Stick_Length                99218 non-null object\n",
      "Thumb                       99288 non-null object\n",
      "Pattern_Changer             99218 non-null object\n",
      "Grouser_Type                99153 non-null object\n",
      "Backhoe_Mounting            78672 non-null object\n",
      "Blade_Type                  79833 non-null object\n",
      "Travel_Controls             79834 non-null object\n",
      "Differential_Type           69411 non-null object\n",
      "Steering_Controls           69369 non-null object\n",
      "saleYear                    401125 non-null int64\n",
      "saleMonth                   401125 non-null int64\n",
      "saleWeek                    401125 non-null int64\n",
      "saleDay                     401125 non-null int64\n",
      "saleDayofweek               401125 non-null int64\n",
      "saleDayofyear               401125 non-null int64\n",
      "saleIs_month_end            401125 non-null bool\n",
      "saleIs_month_start          401125 non-null bool\n",
      "saleIs_quarter_end          401125 non-null bool\n",
      "saleIs_quarter_start        401125 non-null bool\n",
      "saleIs_year_end             401125 non-null bool\n",
      "saleIs_year_start           401125 non-null bool\n",
      "saleElapsed                 401125 non-null int64\n",
      "dtypes: bool(6), float64(2), int64(13), object(44)\n",
      "memory usage: 182.9+ MB\n"
     ]
    }
   ],
   "source": [
    "df_train.info()"
   ]
  },
  {
   "cell_type": "code",
   "execution_count": 9,
   "metadata": {
    "scrolled": true
   },
   "outputs": [
    {
     "name": "stdout",
     "output_type": "stream",
     "text": [
      "<class 'pandas.core.frame.DataFrame'>\n",
      "Int64Index: 11573 entries, 0 to 11572\n",
      "Data columns (total 65 columns):\n",
      "SalesID                     11573 non-null int64\n",
      "MachineID                   11573 non-null int64\n",
      "ModelID                     11573 non-null int64\n",
      "datasource                  11573 non-null int64\n",
      "auctioneerID                11573 non-null int64\n",
      "YearMade                    11573 non-null int64\n",
      "MachineHoursCurrentMeter    4739 non-null float64\n",
      "UsageBand                   4031 non-null object\n",
      "fiModelDesc                 11573 non-null object\n",
      "fiBaseModel                 11573 non-null object\n",
      "fiSecondaryDesc             8037 non-null object\n",
      "fiModelSeries               1759 non-null object\n",
      "fiModelDescriptor           2897 non-null object\n",
      "ProductSize                 5743 non-null object\n",
      "fiProductClassDesc          11573 non-null object\n",
      "state                       11573 non-null object\n",
      "ProductGroup                11573 non-null object\n",
      "ProductGroupDesc            11573 non-null object\n",
      "Drive_System                2726 non-null object\n",
      "Enclosure                   11564 non-null object\n",
      "Forks                       5638 non-null object\n",
      "Pad_Type                    1962 non-null object\n",
      "Ride_Control                4122 non-null object\n",
      "Stick                       1962 non-null object\n",
      "Transmission                4777 non-null object\n",
      "Turbocharged                1962 non-null object\n",
      "Blade_Extension             764 non-null object\n",
      "Blade_Width                 764 non-null object\n",
      "Enclosure_Type              764 non-null object\n",
      "Engine_Horsepower           764 non-null object\n",
      "Hydraulics                  9563 non-null object\n",
      "Pushblock                   764 non-null object\n",
      "Ripper                      2808 non-null object\n",
      "Scarifier                   764 non-null object\n",
      "Tip_Control                 764 non-null object\n",
      "Tire_Size                   2920 non-null object\n",
      "Coupler                     6727 non-null object\n",
      "Coupler_System              1516 non-null object\n",
      "Grouser_Tracks              1513 non-null object\n",
      "Hydraulics_Flow             1513 non-null object\n",
      "Track_Type                  3040 non-null object\n",
      "Undercarriage_Pad_Width     3044 non-null object\n",
      "Stick_Length                3043 non-null object\n",
      "Thumb                       3044 non-null object\n",
      "Pattern_Changer             3043 non-null object\n",
      "Grouser_Type                3040 non-null object\n",
      "Backhoe_Mounting            2040 non-null object\n",
      "Blade_Type                  2042 non-null object\n",
      "Travel_Controls             2043 non-null object\n",
      "Differential_Type           2153 non-null object\n",
      "Steering_Controls           2153 non-null object\n",
      "SalePrice                   11573 non-null float64\n",
      "saleYear                    11573 non-null int64\n",
      "saleMonth                   11573 non-null int64\n",
      "saleWeek                    11573 non-null int64\n",
      "saleDay                     11573 non-null int64\n",
      "saleDayofweek               11573 non-null int64\n",
      "saleDayofyear               11573 non-null int64\n",
      "saleIs_month_end            11573 non-null bool\n",
      "saleIs_month_start          11573 non-null bool\n",
      "saleIs_quarter_end          11573 non-null bool\n",
      "saleIs_quarter_start        11573 non-null bool\n",
      "saleIs_year_end             11573 non-null bool\n",
      "saleIs_year_start           11573 non-null bool\n",
      "saleElapsed                 11573 non-null int64\n",
      "dtypes: bool(6), float64(2), int64(13), object(44)\n",
      "memory usage: 5.4+ MB\n"
     ]
    }
   ],
   "source": [
    "df_valid.info()"
   ]
  },
  {
   "cell_type": "code",
   "execution_count": 10,
   "metadata": {
    "hidden": true
   },
   "outputs": [],
   "source": [
    "train_cats(df_train)"
   ]
  },
  {
   "cell_type": "code",
   "execution_count": 11,
   "metadata": {},
   "outputs": [],
   "source": [
    "apply_cats(df_valid, df_train)"
   ]
  },
  {
   "cell_type": "code",
   "execution_count": 12,
   "metadata": {
    "scrolled": true
   },
   "outputs": [
    {
     "name": "stdout",
     "output_type": "stream",
     "text": [
      "<class 'pandas.core.frame.DataFrame'>\n",
      "RangeIndex: 401125 entries, 0 to 401124\n",
      "Data columns (total 65 columns):\n",
      "SalesID                     401125 non-null int64\n",
      "SalePrice                   401125 non-null int64\n",
      "MachineID                   401125 non-null int64\n",
      "ModelID                     401125 non-null int64\n",
      "datasource                  401125 non-null int64\n",
      "auctioneerID                380989 non-null float64\n",
      "YearMade                    401125 non-null int64\n",
      "MachineHoursCurrentMeter    142765 non-null float64\n",
      "UsageBand                   69639 non-null category\n",
      "fiModelDesc                 401125 non-null category\n",
      "fiBaseModel                 401125 non-null category\n",
      "fiSecondaryDesc             263934 non-null category\n",
      "fiModelSeries               56908 non-null category\n",
      "fiModelDescriptor           71919 non-null category\n",
      "ProductSize                 190350 non-null category\n",
      "fiProductClassDesc          401125 non-null category\n",
      "state                       401125 non-null category\n",
      "ProductGroup                401125 non-null category\n",
      "ProductGroupDesc            401125 non-null category\n",
      "Drive_System                104361 non-null category\n",
      "Enclosure                   400800 non-null category\n",
      "Forks                       192077 non-null category\n",
      "Pad_Type                    79134 non-null category\n",
      "Ride_Control                148606 non-null category\n",
      "Stick                       79134 non-null category\n",
      "Transmission                183230 non-null category\n",
      "Turbocharged                79134 non-null category\n",
      "Blade_Extension             25219 non-null category\n",
      "Blade_Width                 25219 non-null category\n",
      "Enclosure_Type              25219 non-null category\n",
      "Engine_Horsepower           25219 non-null category\n",
      "Hydraulics                  320570 non-null category\n",
      "Pushblock                   25219 non-null category\n",
      "Ripper                      104137 non-null category\n",
      "Scarifier                   25230 non-null category\n",
      "Tip_Control                 25219 non-null category\n",
      "Tire_Size                   94718 non-null category\n",
      "Coupler                     213952 non-null category\n",
      "Coupler_System              43458 non-null category\n",
      "Grouser_Tracks              43362 non-null category\n",
      "Hydraulics_Flow             43362 non-null category\n",
      "Track_Type                  99153 non-null category\n",
      "Undercarriage_Pad_Width     99872 non-null category\n",
      "Stick_Length                99218 non-null category\n",
      "Thumb                       99288 non-null category\n",
      "Pattern_Changer             99218 non-null category\n",
      "Grouser_Type                99153 non-null category\n",
      "Backhoe_Mounting            78672 non-null category\n",
      "Blade_Type                  79833 non-null category\n",
      "Travel_Controls             79834 non-null category\n",
      "Differential_Type           69411 non-null category\n",
      "Steering_Controls           69369 non-null category\n",
      "saleYear                    401125 non-null int64\n",
      "saleMonth                   401125 non-null int64\n",
      "saleWeek                    401125 non-null int64\n",
      "saleDay                     401125 non-null int64\n",
      "saleDayofweek               401125 non-null int64\n",
      "saleDayofyear               401125 non-null int64\n",
      "saleIs_month_end            401125 non-null bool\n",
      "saleIs_month_start          401125 non-null bool\n",
      "saleIs_quarter_end          401125 non-null bool\n",
      "saleIs_quarter_start        401125 non-null bool\n",
      "saleIs_year_end             401125 non-null bool\n",
      "saleIs_year_start           401125 non-null bool\n",
      "saleElapsed                 401125 non-null int64\n",
      "dtypes: bool(6), category(44), float64(2), int64(13)\n",
      "memory usage: 66.9 MB\n"
     ]
    }
   ],
   "source": [
    "df_train.info()"
   ]
  },
  {
   "cell_type": "code",
   "execution_count": 13,
   "metadata": {
    "scrolled": true
   },
   "outputs": [
    {
     "name": "stdout",
     "output_type": "stream",
     "text": [
      "<class 'pandas.core.frame.DataFrame'>\n",
      "Int64Index: 11573 entries, 0 to 11572\n",
      "Data columns (total 65 columns):\n",
      "SalesID                     11573 non-null int64\n",
      "MachineID                   11573 non-null int64\n",
      "ModelID                     11573 non-null int64\n",
      "datasource                  11573 non-null int64\n",
      "auctioneerID                11573 non-null int64\n",
      "YearMade                    11573 non-null int64\n",
      "MachineHoursCurrentMeter    4739 non-null float64\n",
      "UsageBand                   4031 non-null category\n",
      "fiModelDesc                 11485 non-null category\n",
      "fiBaseModel                 11554 non-null category\n",
      "fiSecondaryDesc             8035 non-null category\n",
      "fiModelSeries               1758 non-null category\n",
      "fiModelDescriptor           2896 non-null category\n",
      "ProductSize                 5743 non-null category\n",
      "fiProductClassDesc          11573 non-null category\n",
      "state                       11573 non-null category\n",
      "ProductGroup                11573 non-null category\n",
      "ProductGroupDesc            11573 non-null category\n",
      "Drive_System                2726 non-null category\n",
      "Enclosure                   11564 non-null category\n",
      "Forks                       5638 non-null category\n",
      "Pad_Type                    1962 non-null category\n",
      "Ride_Control                4122 non-null category\n",
      "Stick                       1962 non-null category\n",
      "Transmission                4777 non-null category\n",
      "Turbocharged                1962 non-null category\n",
      "Blade_Extension             764 non-null category\n",
      "Blade_Width                 764 non-null category\n",
      "Enclosure_Type              764 non-null category\n",
      "Engine_Horsepower           764 non-null category\n",
      "Hydraulics                  9563 non-null category\n",
      "Pushblock                   764 non-null category\n",
      "Ripper                      2808 non-null category\n",
      "Scarifier                   764 non-null category\n",
      "Tip_Control                 764 non-null category\n",
      "Tire_Size                   2920 non-null category\n",
      "Coupler                     6727 non-null category\n",
      "Coupler_System              1516 non-null category\n",
      "Grouser_Tracks              1513 non-null category\n",
      "Hydraulics_Flow             1513 non-null category\n",
      "Track_Type                  3040 non-null category\n",
      "Undercarriage_Pad_Width     3044 non-null category\n",
      "Stick_Length                3043 non-null category\n",
      "Thumb                       3044 non-null category\n",
      "Pattern_Changer             3043 non-null category\n",
      "Grouser_Type                3040 non-null category\n",
      "Backhoe_Mounting            2040 non-null category\n",
      "Blade_Type                  2042 non-null category\n",
      "Travel_Controls             2043 non-null category\n",
      "Differential_Type           2153 non-null category\n",
      "Steering_Controls           2153 non-null category\n",
      "SalePrice                   11573 non-null float64\n",
      "saleYear                    11573 non-null int64\n",
      "saleMonth                   11573 non-null int64\n",
      "saleWeek                    11573 non-null int64\n",
      "saleDay                     11573 non-null int64\n",
      "saleDayofweek               11573 non-null int64\n",
      "saleDayofyear               11573 non-null int64\n",
      "saleIs_month_end            11573 non-null bool\n",
      "saleIs_month_start          11573 non-null bool\n",
      "saleIs_quarter_end          11573 non-null bool\n",
      "saleIs_quarter_start        11573 non-null bool\n",
      "saleIs_year_end             11573 non-null bool\n",
      "saleIs_year_start           11573 non-null bool\n",
      "saleElapsed                 11573 non-null int64\n",
      "dtypes: bool(6), category(44), float64(2), int64(13)\n",
      "memory usage: 2.3 MB\n"
     ]
    }
   ],
   "source": [
    "df_valid.info()"
   ]
  },
  {
   "cell_type": "code",
   "execution_count": 14,
   "metadata": {},
   "outputs": [],
   "source": [
    "#??proc_df"
   ]
  },
  {
   "cell_type": "code",
   "execution_count": 15,
   "metadata": {
    "hidden": true
   },
   "outputs": [],
   "source": [
    "X_train, y_train, nas = proc_df(df_train, 'SalePrice')\n",
    "\n",
    "X_valid, y_valid, _ = proc_df(df_valid, 'SalePrice', na_dict=nas)"
   ]
  },
  {
   "cell_type": "code",
   "execution_count": 16,
   "metadata": {},
   "outputs": [
    {
     "data": {
      "text/html": [
       "<div>\n",
       "<style scoped>\n",
       "    .dataframe tbody tr th:only-of-type {\n",
       "        vertical-align: middle;\n",
       "    }\n",
       "\n",
       "    .dataframe tbody tr th {\n",
       "        vertical-align: top;\n",
       "    }\n",
       "\n",
       "    .dataframe thead th {\n",
       "        text-align: right;\n",
       "    }\n",
       "</style>\n",
       "<table border=\"1\" class=\"dataframe\">\n",
       "  <thead>\n",
       "    <tr style=\"text-align: right;\">\n",
       "      <th></th>\n",
       "      <th>0</th>\n",
       "      <th>1</th>\n",
       "      <th>2</th>\n",
       "      <th>3</th>\n",
       "      <th>4</th>\n",
       "      <th>5</th>\n",
       "      <th>6</th>\n",
       "      <th>7</th>\n",
       "      <th>8</th>\n",
       "      <th>9</th>\n",
       "      <th>...</th>\n",
       "      <th>401115</th>\n",
       "      <th>401116</th>\n",
       "      <th>401117</th>\n",
       "      <th>401118</th>\n",
       "      <th>401119</th>\n",
       "      <th>401120</th>\n",
       "      <th>401121</th>\n",
       "      <th>401122</th>\n",
       "      <th>401123</th>\n",
       "      <th>401124</th>\n",
       "    </tr>\n",
       "  </thead>\n",
       "  <tbody>\n",
       "    <tr>\n",
       "      <th>UsageBand</th>\n",
       "      <td>2</td>\n",
       "      <td>2</td>\n",
       "      <td>1</td>\n",
       "      <td>1</td>\n",
       "      <td>3</td>\n",
       "      <td>2</td>\n",
       "      <td>1</td>\n",
       "      <td>1</td>\n",
       "      <td>2</td>\n",
       "      <td>3</td>\n",
       "      <td>...</td>\n",
       "      <td>0.0</td>\n",
       "      <td>0.0</td>\n",
       "      <td>0.0</td>\n",
       "      <td>0.0</td>\n",
       "      <td>0.0</td>\n",
       "      <td>0.0</td>\n",
       "      <td>0.0</td>\n",
       "      <td>0.0</td>\n",
       "      <td>0.0</td>\n",
       "      <td>0.0</td>\n",
       "    </tr>\n",
       "    <tr>\n",
       "      <th>UsageBand</th>\n",
       "      <td>Low</td>\n",
       "      <td>Low</td>\n",
       "      <td>High</td>\n",
       "      <td>High</td>\n",
       "      <td>Medium</td>\n",
       "      <td>Low</td>\n",
       "      <td>High</td>\n",
       "      <td>High</td>\n",
       "      <td>Low</td>\n",
       "      <td>Medium</td>\n",
       "      <td>...</td>\n",
       "      <td>NaN</td>\n",
       "      <td>NaN</td>\n",
       "      <td>NaN</td>\n",
       "      <td>NaN</td>\n",
       "      <td>NaN</td>\n",
       "      <td>NaN</td>\n",
       "      <td>NaN</td>\n",
       "      <td>NaN</td>\n",
       "      <td>NaN</td>\n",
       "      <td>NaN</td>\n",
       "    </tr>\n",
       "  </tbody>\n",
       "</table>\n",
       "<p>2 rows × 401125 columns</p>\n",
       "</div>"
      ],
      "text/plain": [
       "          0      1      2      3       4      5      6      7      8       \\\n",
       "UsageBand      2      2      1      1       3      2      1      1      2   \n",
       "UsageBand    Low    Low   High   High  Medium    Low   High   High    Low   \n",
       "\n",
       "           9       ...   401115 401116  401117 401118 401119 401120 401121  \\\n",
       "UsageBand       3  ...      0.0    0.0     0.0    0.0    0.0    0.0    0.0   \n",
       "UsageBand  Medium  ...      NaN    NaN     NaN    NaN    NaN    NaN    NaN   \n",
       "\n",
       "           401122 401123 401124  \n",
       "UsageBand     0.0    0.0    0.0  \n",
       "UsageBand     NaN    NaN    NaN  \n",
       "\n",
       "[2 rows x 401125 columns]"
      ]
     },
     "execution_count": 16,
     "metadata": {},
     "output_type": "execute_result"
    }
   ],
   "source": [
    "df_mt = pd.DataFrame([X_train.UsageBand, df_train.UsageBand])\n",
    "df_mt"
   ]
  },
  {
   "cell_type": "code",
   "execution_count": 17,
   "metadata": {
    "scrolled": true
   },
   "outputs": [
    {
     "data": {
      "text/html": [
       "<div>\n",
       "<style scoped>\n",
       "    .dataframe tbody tr th:only-of-type {\n",
       "        vertical-align: middle;\n",
       "    }\n",
       "\n",
       "    .dataframe tbody tr th {\n",
       "        vertical-align: top;\n",
       "    }\n",
       "\n",
       "    .dataframe thead th {\n",
       "        text-align: right;\n",
       "    }\n",
       "</style>\n",
       "<table border=\"1\" class=\"dataframe\">\n",
       "  <thead>\n",
       "    <tr style=\"text-align: right;\">\n",
       "      <th></th>\n",
       "      <th>0</th>\n",
       "      <th>1</th>\n",
       "      <th>2</th>\n",
       "      <th>3</th>\n",
       "      <th>4</th>\n",
       "      <th>5</th>\n",
       "      <th>6</th>\n",
       "      <th>7</th>\n",
       "      <th>8</th>\n",
       "      <th>9</th>\n",
       "      <th>...</th>\n",
       "      <th>11563</th>\n",
       "      <th>11564</th>\n",
       "      <th>11565</th>\n",
       "      <th>11566</th>\n",
       "      <th>11567</th>\n",
       "      <th>11568</th>\n",
       "      <th>11569</th>\n",
       "      <th>11570</th>\n",
       "      <th>11571</th>\n",
       "      <th>11572</th>\n",
       "    </tr>\n",
       "  </thead>\n",
       "  <tbody>\n",
       "    <tr>\n",
       "      <th>UsageBand</th>\n",
       "      <td>0.0</td>\n",
       "      <td>3</td>\n",
       "      <td>3</td>\n",
       "      <td>2</td>\n",
       "      <td>3</td>\n",
       "      <td>0.0</td>\n",
       "      <td>2</td>\n",
       "      <td>2</td>\n",
       "      <td>2</td>\n",
       "      <td>2</td>\n",
       "      <td>...</td>\n",
       "      <td>0.0</td>\n",
       "      <td>0.0</td>\n",
       "      <td>0.0</td>\n",
       "      <td>0.0</td>\n",
       "      <td>0.0</td>\n",
       "      <td>0.0</td>\n",
       "      <td>0.0</td>\n",
       "      <td>0.0</td>\n",
       "      <td>0.0</td>\n",
       "      <td>0.0</td>\n",
       "    </tr>\n",
       "    <tr>\n",
       "      <th>UsageBand</th>\n",
       "      <td>NaN</td>\n",
       "      <td>Medium</td>\n",
       "      <td>Medium</td>\n",
       "      <td>Low</td>\n",
       "      <td>Medium</td>\n",
       "      <td>NaN</td>\n",
       "      <td>Low</td>\n",
       "      <td>Low</td>\n",
       "      <td>Low</td>\n",
       "      <td>Low</td>\n",
       "      <td>...</td>\n",
       "      <td>NaN</td>\n",
       "      <td>NaN</td>\n",
       "      <td>NaN</td>\n",
       "      <td>NaN</td>\n",
       "      <td>NaN</td>\n",
       "      <td>NaN</td>\n",
       "      <td>NaN</td>\n",
       "      <td>NaN</td>\n",
       "      <td>NaN</td>\n",
       "      <td>NaN</td>\n",
       "    </tr>\n",
       "  </tbody>\n",
       "</table>\n",
       "<p>2 rows × 11573 columns</p>\n",
       "</div>"
      ],
      "text/plain": [
       "           0       1       2     3       4      5     6     7     8     9      \\\n",
       "UsageBand    0.0       3       3     2       3    0.0     2     2     2     2   \n",
       "UsageBand    NaN  Medium  Medium   Low  Medium    NaN   Low   Low   Low   Low   \n",
       "\n",
       "           ...   11563 11564 11565 11566 11567 11568 11569 11570 11571  11572  \n",
       "UsageBand  ...     0.0   0.0   0.0   0.0   0.0   0.0   0.0   0.0   0.0    0.0  \n",
       "UsageBand  ...     NaN   NaN   NaN   NaN   NaN   NaN   NaN   NaN   NaN    NaN  \n",
       "\n",
       "[2 rows x 11573 columns]"
      ]
     },
     "execution_count": 17,
     "metadata": {},
     "output_type": "execute_result"
    }
   ],
   "source": [
    "df_mv = pd.DataFrame([X_valid.UsageBand, df_valid.UsageBand])\n",
    "df_mv"
   ]
  },
  {
   "cell_type": "code",
   "execution_count": 18,
   "metadata": {},
   "outputs": [],
   "source": [
    "def rmse(x,y): return math.sqrt(((x-y)**2).mean())\n",
    "\n",
    "def print_score(m):\n",
    "    res = [rmse(m.predict(X_train), y_train), rmse(m.predict(X_valid), y_valid),\n",
    "                m.score(X_train, y_train), m.score(X_valid, y_valid)]\n",
    "    if hasattr(m, 'oob_score_'): res.append(m.oob_score_)\n",
    "    print(res)"
   ]
  },
  {
   "cell_type": "code",
   "execution_count": null,
   "metadata": {},
   "outputs": [],
   "source": [
    "m = RandomForestRegressor(n_jobs=-1)\n",
    "%time m.fit(X_train, y_train)\n",
    "print_score(m)"
   ]
  },
  {
   "cell_type": "code",
   "execution_count": null,
   "metadata": {},
   "outputs": [],
   "source": []
  }
 ],
 "metadata": {
  "kernelspec": {
   "display_name": "fastai",
   "language": "python",
   "name": "fastai"
  },
  "language_info": {
   "codemirror_mode": {
    "name": "ipython",
    "version": 3
   },
   "file_extension": ".py",
   "mimetype": "text/x-python",
   "name": "python",
   "nbconvert_exporter": "python",
   "pygments_lexer": "ipython3",
   "version": "3.6.6"
  },
  "toc": {
   "colors": {
    "hover_highlight": "#DAA520",
    "navigate_num": "#000000",
    "navigate_text": "#333333",
    "running_highlight": "#FF0000",
    "selected_highlight": "#FFD700",
    "sidebar_border": "#EEEEEE",
    "wrapper_background": "#FFFFFF"
   },
   "moveMenuLeft": true,
   "nav_menu": {
    "height": "512px",
    "width": "252px"
   },
   "navigate_menu": true,
   "number_sections": true,
   "sideBar": true,
   "threshold": 4,
   "toc_cell": false,
   "toc_section_display": "block",
   "toc_window_display": false,
   "widenNotebook": false
  }
 },
 "nbformat": 4,
 "nbformat_minor": 2
}
