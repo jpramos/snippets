{
 "cells": [
  {
   "cell_type": "markdown",
   "metadata": {},
   "source": [
    "# Introduction to *Blue Book for Bulldozers*"
   ]
  },
  {
   "cell_type": "code",
   "execution_count": 14,
   "metadata": {
    "hidden": true
   },
   "outputs": [
    {
     "name": "stdout",
     "output_type": "stream",
     "text": [
      "The autoreload extension is already loaded. To reload it, use:\n",
      "  %reload_ext autoreload\n"
     ]
    }
   ],
   "source": [
    "%load_ext autoreload\n",
    "%autoreload 2\n",
    "\n",
    "%matplotlib inline"
   ]
  },
  {
   "cell_type": "code",
   "execution_count": 15,
   "metadata": {
    "hidden": true
   },
   "outputs": [],
   "source": [
    "from fastai.imports import *\n",
    "from fastai.structured import *\n",
    "\n",
    "from pandas_summary import DataFrameSummary\n",
    "from sklearn.ensemble import RandomForestRegressor, RandomForestClassifier\n",
    "from IPython.display import display\n",
    "\n",
    "from sklearn import metrics"
   ]
  },
  {
   "cell_type": "code",
   "execution_count": 16,
   "metadata": {
    "hidden": true
   },
   "outputs": [],
   "source": [
    "PATH = \"data/bulldozers/\""
   ]
  },
  {
   "cell_type": "code",
   "execution_count": 17,
   "metadata": {
    "hidden": true
   },
   "outputs": [
    {
     "name": "stdout",
     "output_type": "stream",
     "text": [
      "Data%20Dictionary.xlsx\t\t  Test.csv\t     Train.zip\r\n",
      "Machine_Appendix.csv\t\t  TrainAndValid.csv  Valid.csv\r\n",
      "median_benchmark.csv\t\t  TrainAndValid.zip  ValidSolution.csv\r\n",
      "random_forest_benchmark_test.csv  Train.csv\t     Valid.zip\r\n"
     ]
    }
   ],
   "source": [
    "!ls {PATH}"
   ]
  },
  {
   "cell_type": "code",
   "execution_count": 18,
   "metadata": {
    "hidden": true,
    "scrolled": false
   },
   "outputs": [],
   "source": [
    "df_train = pd.read_csv(f'{PATH}Train.csv', low_memory=False, \n",
    "                     parse_dates=[\"saledate\"])\n",
    "\n",
    "df_valid = pd.read_csv(f'{PATH}Valid.csv', low_memory=False,\n",
    "                      parse_dates=[\"saledate\"])"
   ]
  },
  {
   "cell_type": "code",
   "execution_count": 20,
   "metadata": {
    "hidden": true
   },
   "outputs": [],
   "source": [
    "add_datepart(df_train, 'saledate')\n",
    "\n",
    "add_datepart(df_valid, 'saledate')"
   ]
  },
  {
   "cell_type": "code",
   "execution_count": 21,
   "metadata": {},
   "outputs": [],
   "source": [
    "#??apply_cats"
   ]
  },
  {
   "cell_type": "code",
   "execution_count": 22,
   "metadata": {
    "hidden": true
   },
   "outputs": [],
   "source": [
    "train_cats(df_train)"
   ]
  },
  {
   "cell_type": "code",
   "execution_count": 23,
   "metadata": {},
   "outputs": [],
   "source": [
    "apply_cats(df_valid, df_train)"
   ]
  },
  {
   "cell_type": "code",
   "execution_count": 29,
   "metadata": {
    "scrolled": true
   },
   "outputs": [
    {
     "data": {
      "text/plain": [
       "0            Low\n",
       "1            Low\n",
       "2           High\n",
       "3           High\n",
       "4         Medium\n",
       "5            Low\n",
       "6           High\n",
       "7           High\n",
       "8            Low\n",
       "9         Medium\n",
       "10        Medium\n",
       "11           Low\n",
       "12           NaN\n",
       "13        Medium\n",
       "14           Low\n",
       "15        Medium\n",
       "16           Low\n",
       "17           NaN\n",
       "18           Low\n",
       "19        Medium\n",
       "20        Medium\n",
       "21        Medium\n",
       "22           Low\n",
       "23          High\n",
       "24        Medium\n",
       "25        Medium\n",
       "26           Low\n",
       "27           NaN\n",
       "28           Low\n",
       "29        Medium\n",
       "           ...  \n",
       "401095       NaN\n",
       "401096       NaN\n",
       "401097       NaN\n",
       "401098       NaN\n",
       "401099       NaN\n",
       "401100       NaN\n",
       "401101       NaN\n",
       "401102       NaN\n",
       "401103       NaN\n",
       "401104       NaN\n",
       "401105       NaN\n",
       "401106       NaN\n",
       "401107       NaN\n",
       "401108       NaN\n",
       "401109       NaN\n",
       "401110       NaN\n",
       "401111       NaN\n",
       "401112       NaN\n",
       "401113       NaN\n",
       "401114       NaN\n",
       "401115       NaN\n",
       "401116       NaN\n",
       "401117       NaN\n",
       "401118       NaN\n",
       "401119       NaN\n",
       "401120       NaN\n",
       "401121       NaN\n",
       "401122       NaN\n",
       "401123       NaN\n",
       "401124       NaN\n",
       "Name: UsageBand, Length: 401125, dtype: category\n",
       "Categories (3, object): [High < Low < Medium]"
      ]
     },
     "execution_count": 29,
     "metadata": {},
     "output_type": "execute_result"
    }
   ],
   "source": [
    "df_train.UsageBand"
   ]
  },
  {
   "cell_type": "code",
   "execution_count": 30,
   "metadata": {
    "scrolled": true
   },
   "outputs": [
    {
     "data": {
      "text/plain": [
       "0           NaN\n",
       "1        Medium\n",
       "2        Medium\n",
       "3           Low\n",
       "4        Medium\n",
       "5           NaN\n",
       "6           Low\n",
       "7           Low\n",
       "8           Low\n",
       "9           Low\n",
       "10          Low\n",
       "11          Low\n",
       "12          Low\n",
       "13          Low\n",
       "14          Low\n",
       "15          Low\n",
       "16         High\n",
       "17         High\n",
       "18          Low\n",
       "19          NaN\n",
       "20          Low\n",
       "21          Low\n",
       "22          NaN\n",
       "23          NaN\n",
       "24       Medium\n",
       "25          Low\n",
       "26          NaN\n",
       "27          NaN\n",
       "28          Low\n",
       "29       Medium\n",
       "          ...  \n",
       "11543       NaN\n",
       "11544       NaN\n",
       "11545       NaN\n",
       "11546       NaN\n",
       "11547       NaN\n",
       "11548       NaN\n",
       "11549       NaN\n",
       "11550       NaN\n",
       "11551       NaN\n",
       "11552       NaN\n",
       "11553       NaN\n",
       "11554       NaN\n",
       "11555       NaN\n",
       "11556       NaN\n",
       "11557       NaN\n",
       "11558       NaN\n",
       "11559       NaN\n",
       "11560       NaN\n",
       "11561       NaN\n",
       "11562       NaN\n",
       "11563       NaN\n",
       "11564       NaN\n",
       "11565       NaN\n",
       "11566       NaN\n",
       "11567       NaN\n",
       "11568       NaN\n",
       "11569       NaN\n",
       "11570       NaN\n",
       "11571       NaN\n",
       "11572       NaN\n",
       "Name: UsageBand, Length: 11573, dtype: category\n",
       "Categories (3, object): [High < Low < Medium]"
      ]
     },
     "execution_count": 30,
     "metadata": {},
     "output_type": "execute_result"
    }
   ],
   "source": [
    "df_valid.UsageBand"
   ]
  },
  {
   "cell_type": "code",
   "execution_count": 28,
   "metadata": {},
   "outputs": [],
   "source": [
    "#??proc_df"
   ]
  },
  {
   "cell_type": "code",
   "execution_count": 27,
   "metadata": {
    "hidden": true
   },
   "outputs": [],
   "source": [
    "df_t, y, nas = proc_df(df_train, 'SalePrice')\n",
    "\n",
    "df_v, _, _ = proc_df(df_valid, na_dict=nas)"
   ]
  },
  {
   "cell_type": "code",
   "execution_count": 37,
   "metadata": {},
   "outputs": [
    {
     "data": {
      "text/html": [
       "<div>\n",
       "<style scoped>\n",
       "    .dataframe tbody tr th:only-of-type {\n",
       "        vertical-align: middle;\n",
       "    }\n",
       "\n",
       "    .dataframe tbody tr th {\n",
       "        vertical-align: top;\n",
       "    }\n",
       "\n",
       "    .dataframe thead th {\n",
       "        text-align: right;\n",
       "    }\n",
       "</style>\n",
       "<table border=\"1\" class=\"dataframe\">\n",
       "  <thead>\n",
       "    <tr style=\"text-align: right;\">\n",
       "      <th></th>\n",
       "      <th>0</th>\n",
       "      <th>1</th>\n",
       "      <th>2</th>\n",
       "      <th>3</th>\n",
       "      <th>4</th>\n",
       "      <th>5</th>\n",
       "      <th>6</th>\n",
       "      <th>7</th>\n",
       "      <th>8</th>\n",
       "      <th>9</th>\n",
       "      <th>...</th>\n",
       "      <th>401115</th>\n",
       "      <th>401116</th>\n",
       "      <th>401117</th>\n",
       "      <th>401118</th>\n",
       "      <th>401119</th>\n",
       "      <th>401120</th>\n",
       "      <th>401121</th>\n",
       "      <th>401122</th>\n",
       "      <th>401123</th>\n",
       "      <th>401124</th>\n",
       "    </tr>\n",
       "  </thead>\n",
       "  <tbody>\n",
       "    <tr>\n",
       "      <th>UsageBand</th>\n",
       "      <td>2</td>\n",
       "      <td>2</td>\n",
       "      <td>1</td>\n",
       "      <td>1</td>\n",
       "      <td>3</td>\n",
       "      <td>2</td>\n",
       "      <td>1</td>\n",
       "      <td>1</td>\n",
       "      <td>2</td>\n",
       "      <td>3</td>\n",
       "      <td>...</td>\n",
       "      <td>0.0</td>\n",
       "      <td>0.0</td>\n",
       "      <td>0.0</td>\n",
       "      <td>0.0</td>\n",
       "      <td>0.0</td>\n",
       "      <td>0.0</td>\n",
       "      <td>0.0</td>\n",
       "      <td>0.0</td>\n",
       "      <td>0.0</td>\n",
       "      <td>0.0</td>\n",
       "    </tr>\n",
       "    <tr>\n",
       "      <th>UsageBand</th>\n",
       "      <td>Low</td>\n",
       "      <td>Low</td>\n",
       "      <td>High</td>\n",
       "      <td>High</td>\n",
       "      <td>Medium</td>\n",
       "      <td>Low</td>\n",
       "      <td>High</td>\n",
       "      <td>High</td>\n",
       "      <td>Low</td>\n",
       "      <td>Medium</td>\n",
       "      <td>...</td>\n",
       "      <td>NaN</td>\n",
       "      <td>NaN</td>\n",
       "      <td>NaN</td>\n",
       "      <td>NaN</td>\n",
       "      <td>NaN</td>\n",
       "      <td>NaN</td>\n",
       "      <td>NaN</td>\n",
       "      <td>NaN</td>\n",
       "      <td>NaN</td>\n",
       "      <td>NaN</td>\n",
       "    </tr>\n",
       "  </tbody>\n",
       "</table>\n",
       "<p>2 rows × 401125 columns</p>\n",
       "</div>"
      ],
      "text/plain": [
       "          0      1      2      3       4      5      6      7      8       \\\n",
       "UsageBand      2      2      1      1       3      2      1      1      2   \n",
       "UsageBand    Low    Low   High   High  Medium    Low   High   High    Low   \n",
       "\n",
       "           9       ...   401115 401116  401117 401118 401119 401120 401121  \\\n",
       "UsageBand       3  ...      0.0    0.0     0.0    0.0    0.0    0.0    0.0   \n",
       "UsageBand  Medium  ...      NaN    NaN     NaN    NaN    NaN    NaN    NaN   \n",
       "\n",
       "           401122 401123 401124  \n",
       "UsageBand     0.0    0.0    0.0  \n",
       "UsageBand     NaN    NaN    NaN  \n",
       "\n",
       "[2 rows x 401125 columns]"
      ]
     },
     "execution_count": 37,
     "metadata": {},
     "output_type": "execute_result"
    }
   ],
   "source": [
    "df_mt = pd.DataFrame([df_t.UsageBand, df_train.UsageBand])\n",
    "df_mt"
   ]
  },
  {
   "cell_type": "code",
   "execution_count": 36,
   "metadata": {},
   "outputs": [
    {
     "data": {
      "text/html": [
       "<div>\n",
       "<style scoped>\n",
       "    .dataframe tbody tr th:only-of-type {\n",
       "        vertical-align: middle;\n",
       "    }\n",
       "\n",
       "    .dataframe tbody tr th {\n",
       "        vertical-align: top;\n",
       "    }\n",
       "\n",
       "    .dataframe thead th {\n",
       "        text-align: right;\n",
       "    }\n",
       "</style>\n",
       "<table border=\"1\" class=\"dataframe\">\n",
       "  <thead>\n",
       "    <tr style=\"text-align: right;\">\n",
       "      <th></th>\n",
       "      <th>0</th>\n",
       "      <th>1</th>\n",
       "      <th>2</th>\n",
       "      <th>3</th>\n",
       "      <th>4</th>\n",
       "      <th>5</th>\n",
       "      <th>6</th>\n",
       "      <th>7</th>\n",
       "      <th>8</th>\n",
       "      <th>9</th>\n",
       "      <th>...</th>\n",
       "      <th>11563</th>\n",
       "      <th>11564</th>\n",
       "      <th>11565</th>\n",
       "      <th>11566</th>\n",
       "      <th>11567</th>\n",
       "      <th>11568</th>\n",
       "      <th>11569</th>\n",
       "      <th>11570</th>\n",
       "      <th>11571</th>\n",
       "      <th>11572</th>\n",
       "    </tr>\n",
       "  </thead>\n",
       "  <tbody>\n",
       "    <tr>\n",
       "      <th>UsageBand</th>\n",
       "      <td>0.0</td>\n",
       "      <td>3</td>\n",
       "      <td>3</td>\n",
       "      <td>2</td>\n",
       "      <td>3</td>\n",
       "      <td>0.0</td>\n",
       "      <td>2</td>\n",
       "      <td>2</td>\n",
       "      <td>2</td>\n",
       "      <td>2</td>\n",
       "      <td>...</td>\n",
       "      <td>0.0</td>\n",
       "      <td>0.0</td>\n",
       "      <td>0.0</td>\n",
       "      <td>0.0</td>\n",
       "      <td>0.0</td>\n",
       "      <td>0.0</td>\n",
       "      <td>0.0</td>\n",
       "      <td>0.0</td>\n",
       "      <td>0.0</td>\n",
       "      <td>0.0</td>\n",
       "    </tr>\n",
       "    <tr>\n",
       "      <th>UsageBand</th>\n",
       "      <td>NaN</td>\n",
       "      <td>Medium</td>\n",
       "      <td>Medium</td>\n",
       "      <td>Low</td>\n",
       "      <td>Medium</td>\n",
       "      <td>NaN</td>\n",
       "      <td>Low</td>\n",
       "      <td>Low</td>\n",
       "      <td>Low</td>\n",
       "      <td>Low</td>\n",
       "      <td>...</td>\n",
       "      <td>NaN</td>\n",
       "      <td>NaN</td>\n",
       "      <td>NaN</td>\n",
       "      <td>NaN</td>\n",
       "      <td>NaN</td>\n",
       "      <td>NaN</td>\n",
       "      <td>NaN</td>\n",
       "      <td>NaN</td>\n",
       "      <td>NaN</td>\n",
       "      <td>NaN</td>\n",
       "    </tr>\n",
       "  </tbody>\n",
       "</table>\n",
       "<p>2 rows × 11573 columns</p>\n",
       "</div>"
      ],
      "text/plain": [
       "           0       1       2     3       4      5     6     7     8     9      \\\n",
       "UsageBand    0.0       3       3     2       3    0.0     2     2     2     2   \n",
       "UsageBand    NaN  Medium  Medium   Low  Medium    NaN   Low   Low   Low   Low   \n",
       "\n",
       "           ...   11563 11564 11565 11566 11567 11568 11569 11570 11571  11572  \n",
       "UsageBand  ...     0.0   0.0   0.0   0.0   0.0   0.0   0.0   0.0   0.0    0.0  \n",
       "UsageBand  ...     NaN   NaN   NaN   NaN   NaN   NaN   NaN   NaN   NaN    NaN  \n",
       "\n",
       "[2 rows x 11573 columns]"
      ]
     },
     "execution_count": 36,
     "metadata": {},
     "output_type": "execute_result"
    }
   ],
   "source": [
    "df_mv = pd.DataFrame([df_v.UsageBand, df_valid.UsageBand])\n",
    "df_mv"
   ]
  }
 ],
 "metadata": {
  "kernelspec": {
   "display_name": "fastai",
   "language": "python",
   "name": "fastai"
  },
  "language_info": {
   "codemirror_mode": {
    "name": "ipython",
    "version": 3
   },
   "file_extension": ".py",
   "mimetype": "text/x-python",
   "name": "python",
   "nbconvert_exporter": "python",
   "pygments_lexer": "ipython3",
   "version": "3.6.6"
  },
  "toc": {
   "colors": {
    "hover_highlight": "#DAA520",
    "navigate_num": "#000000",
    "navigate_text": "#333333",
    "running_highlight": "#FF0000",
    "selected_highlight": "#FFD700",
    "sidebar_border": "#EEEEEE",
    "wrapper_background": "#FFFFFF"
   },
   "moveMenuLeft": true,
   "nav_menu": {
    "height": "512px",
    "width": "252px"
   },
   "navigate_menu": true,
   "number_sections": true,
   "sideBar": true,
   "threshold": 4,
   "toc_cell": false,
   "toc_section_display": "block",
   "toc_window_display": false,
   "widenNotebook": false
  }
 },
 "nbformat": 4,
 "nbformat_minor": 2
}
